{
 "cells": [
  {
   "cell_type": "code",
   "execution_count": 124,
   "id": "31c7ec45",
   "metadata": {},
   "outputs": [],
   "source": [
    "import pandas as pd\n",
    "import numpy as np\n",
    "import matplotlib.pyplot as plt\n",
    "from datetime import datetime\n",
    "from sklearn.preprocessing import LabelEncoder\n",
    "from tensorflow.keras.preprocessing.sequence import pad_sequences\n",
    "import tensorflow as tf"
   ]
  },
  {
   "cell_type": "code",
   "execution_count": 2,
   "id": "4e08b062",
   "metadata": {},
   "outputs": [],
   "source": [
    "data = pd.read_excel(\"../raw_data/data.xlsx\")"
   ]
  },
  {
   "cell_type": "code",
   "execution_count": 76,
   "id": "1892c78e",
   "metadata": {},
   "outputs": [],
   "source": [
    "df = data[['Account: Account ID', 'Product Category (6D)', 'Model  Name', 'Purchase  Date', 'Purchase Month', 'Purchase Year']]"
   ]
  },
  {
   "cell_type": "code",
   "execution_count": 77,
   "id": "d5a7127f",
   "metadata": {},
   "outputs": [
    {
     "name": "stderr",
     "output_type": "stream",
     "text": [
      "/tmp/ipykernel_24076/423221039.py:1: SettingWithCopyWarning: \n",
      "A value is trying to be set on a copy of a slice from a DataFrame.\n",
      "Try using .loc[row_indexer,col_indexer] = value instead\n",
      "\n",
      "See the caveats in the documentation: https://pandas.pydata.org/pandas-docs/stable/user_guide/indexing.html#returning-a-view-versus-a-copy\n",
      "  df['Purchase  Date'] = pd.to_datetime(df['Purchase  Date'])\n"
     ]
    }
   ],
   "source": [
    "df['Purchase  Date'] = pd.to_datetime(df['Purchase  Date'])"
   ]
  },
  {
   "cell_type": "code",
   "execution_count": 78,
   "id": "998d048e",
   "metadata": {},
   "outputs": [],
   "source": [
    "df = df[df['Purchase  Date']>'2017-04-01']"
   ]
  },
  {
   "cell_type": "code",
   "execution_count": 79,
   "id": "8a2afac3",
   "metadata": {},
   "outputs": [],
   "source": [
    "df['Today'] = datetime.today()"
   ]
  },
  {
   "cell_type": "code",
   "execution_count": 80,
   "id": "edd8ac4b",
   "metadata": {},
   "outputs": [],
   "source": [
    "df['Recency'] = round((df['Today'] - df['Purchase  Date']).dt.days/30,0)"
   ]
  },
  {
   "cell_type": "code",
   "execution_count": 81,
   "id": "26ffaff6",
   "metadata": {},
   "outputs": [],
   "source": [
    "df['Recency'] = df['Recency'].astype('int')"
   ]
  },
  {
   "cell_type": "code",
   "execution_count": 82,
   "id": "38948368",
   "metadata": {},
   "outputs": [],
   "source": [
    "df.drop(columns=['Purchase  Date', 'Purchase Month', 'Purchase Year', 'Today'], inplace=True)"
   ]
  },
  {
   "cell_type": "code",
   "execution_count": 83,
   "id": "f76f6b71",
   "metadata": {},
   "outputs": [],
   "source": [
    "df_count = df.groupby('Account: Account ID').count()[['Model  Name']]"
   ]
  },
  {
   "cell_type": "code",
   "execution_count": 84,
   "id": "d2fbfe36",
   "metadata": {},
   "outputs": [],
   "source": [
    "df_count = df_count[df_count['Model  Name']>2]\n",
    "df_count = df_count[df_count['Model  Name']<=15]"
   ]
  },
  {
   "cell_type": "code",
   "execution_count": 85,
   "id": "3ee29f7d",
   "metadata": {},
   "outputs": [],
   "source": [
    "customer_id = df_count.index"
   ]
  },
  {
   "cell_type": "code",
   "execution_count": 284,
   "id": "bc7bb92a",
   "metadata": {},
   "outputs": [],
   "source": [
    "input_data = df[df['Account: Account ID'].isin(customer_id)]"
   ]
  },
  {
   "cell_type": "code",
   "execution_count": 286,
   "id": "3c1b8907",
   "metadata": {},
   "outputs": [
    {
     "data": {
      "text/plain": [
       "Index(['Account: Account ID', 'Product Category (6D)', 'Model  Name',\n",
       "       'Recency'],\n",
       "      dtype='object')"
      ]
     },
     "execution_count": 286,
     "metadata": {},
     "output_type": "execute_result"
    }
   ],
   "source": [
    "input_data.columns"
   ]
  },
  {
   "cell_type": "code",
   "execution_count": 287,
   "id": "5ddd02c6",
   "metadata": {},
   "outputs": [],
   "source": [
    "input_data = input_data.rename(columns={'Account: Account ID':'account_id', 'Model  Name':'model', 'Recency':'recency'})[['account_id','model', 'recency']]"
   ]
  },
  {
   "cell_type": "code",
   "execution_count": 288,
   "id": "ae629ef3",
   "metadata": {
    "scrolled": true
   },
   "outputs": [],
   "source": [
    "encoder = LabelEncoder()\n",
    "input_data['model'] = encoder.fit_transform(input_data['model'])"
   ]
  },
  {
   "cell_type": "code",
   "execution_count": 293,
   "id": "5869b9c2",
   "metadata": {},
   "outputs": [],
   "source": [
    "input_data = input_data.groupby('account_id').agg(list)"
   ]
  },
  {
   "cell_type": "code",
   "execution_count": 309,
   "id": "f8640143",
   "metadata": {},
   "outputs": [],
   "source": [
    "input_data['model'] = input_data['model'].apply(lambda x: np.array(x))\n",
    "input_data['recency'] = input_data['recency'].apply(lambda x: np.array(x))"
   ]
  },
  {
   "cell_type": "code",
   "execution_count": 311,
   "id": "30b88871",
   "metadata": {},
   "outputs": [],
   "source": [
    "input_data['training_sequence'] = input_data['model'].apply(lambda x: x[:-1])\n",
    "input_data['target_sequence'] = input_data['model'].apply(lambda x: x[1:])"
   ]
  },
  {
   "cell_type": "code",
   "execution_count": 312,
   "id": "9caa4872",
   "metadata": {},
   "outputs": [
    {
     "data": {
      "text/html": [
       "<div>\n",
       "<style scoped>\n",
       "    .dataframe tbody tr th:only-of-type {\n",
       "        vertical-align: middle;\n",
       "    }\n",
       "\n",
       "    .dataframe tbody tr th {\n",
       "        vertical-align: top;\n",
       "    }\n",
       "\n",
       "    .dataframe thead th {\n",
       "        text-align: right;\n",
       "    }\n",
       "</style>\n",
       "<table border=\"1\" class=\"dataframe\">\n",
       "  <thead>\n",
       "    <tr style=\"text-align: right;\">\n",
       "      <th></th>\n",
       "      <th>model</th>\n",
       "      <th>recency</th>\n",
       "      <th>training_sequence</th>\n",
       "      <th>target_sequence</th>\n",
       "    </tr>\n",
       "    <tr>\n",
       "      <th>account_id</th>\n",
       "      <th></th>\n",
       "      <th></th>\n",
       "      <th></th>\n",
       "      <th></th>\n",
       "    </tr>\n",
       "  </thead>\n",
       "  <tbody>\n",
       "    <tr>\n",
       "      <th>1900000215889</th>\n",
       "      <td>[130, 29, 106]</td>\n",
       "      <td>[50, 50, 48]</td>\n",
       "      <td>[130, 29]</td>\n",
       "      <td>[29, 106]</td>\n",
       "    </tr>\n",
       "    <tr>\n",
       "      <th>0010o00002AGLLq</th>\n",
       "      <td>[46, 120, 84]</td>\n",
       "      <td>[41, 40, 37]</td>\n",
       "      <td>[46, 120]</td>\n",
       "      <td>[120, 84]</td>\n",
       "    </tr>\n",
       "    <tr>\n",
       "      <th>0010o00002AGU1E</th>\n",
       "      <td>[115, 40, 97]</td>\n",
       "      <td>[40, 40, 4]</td>\n",
       "      <td>[115, 40]</td>\n",
       "      <td>[40, 97]</td>\n",
       "    </tr>\n",
       "    <tr>\n",
       "      <th>0010o00002AGUKz</th>\n",
       "      <td>[115, 40, 97]</td>\n",
       "      <td>[41, 41, 41]</td>\n",
       "      <td>[115, 40]</td>\n",
       "      <td>[40, 97]</td>\n",
       "    </tr>\n",
       "    <tr>\n",
       "      <th>0010o00002AGYLD</th>\n",
       "      <td>[40, 52, 115, 115]</td>\n",
       "      <td>[40, 18, 18, 10]</td>\n",
       "      <td>[40, 52, 115]</td>\n",
       "      <td>[52, 115, 115]</td>\n",
       "    </tr>\n",
       "    <tr>\n",
       "      <th>...</th>\n",
       "      <td>...</td>\n",
       "      <td>...</td>\n",
       "      <td>...</td>\n",
       "      <td>...</td>\n",
       "    </tr>\n",
       "    <tr>\n",
       "      <th>0019000002ACnHZ</th>\n",
       "      <td>[105, 98, 24]</td>\n",
       "      <td>[47, 41, 16]</td>\n",
       "      <td>[105, 98]</td>\n",
       "      <td>[98, 24]</td>\n",
       "    </tr>\n",
       "    <tr>\n",
       "      <th>0019000002ACnby</th>\n",
       "      <td>[11, 106, 130]</td>\n",
       "      <td>[41, 41, 36]</td>\n",
       "      <td>[11, 106]</td>\n",
       "      <td>[106, 130]</td>\n",
       "    </tr>\n",
       "    <tr>\n",
       "      <th>0019000002ACsYC</th>\n",
       "      <td>[40, 52, 115, 40, 40, 40, 40]</td>\n",
       "      <td>[41, 16, 11, 1, 1, 1, 1]</td>\n",
       "      <td>[40, 52, 115, 40, 40, 40]</td>\n",
       "      <td>[52, 115, 40, 40, 40, 40]</td>\n",
       "    </tr>\n",
       "    <tr>\n",
       "      <th>0019000002B5m8N</th>\n",
       "      <td>[40, 40, 96, 83, 53, 90, 53, 98, 2, 2]</td>\n",
       "      <td>[47, 46, 46, 36, 36, 32, 32, 28, 12, 11]</td>\n",
       "      <td>[40, 40, 96, 83, 53, 90, 53, 98, 2]</td>\n",
       "      <td>[40, 96, 83, 53, 90, 53, 98, 2, 2]</td>\n",
       "    </tr>\n",
       "    <tr>\n",
       "      <th>0019000002B5p30</th>\n",
       "      <td>[40, 97, 128, 84, 122, 120, 94, 107, 31, 83, 9...</td>\n",
       "      <td>[41, 41, 41, 40, 39, 38, 37, 31, 29, 26, 20, 18]</td>\n",
       "      <td>[40, 97, 128, 84, 122, 120, 94, 107, 31, 83, 90]</td>\n",
       "      <td>[97, 128, 84, 122, 120, 94, 107, 31, 83, 90, 52]</td>\n",
       "    </tr>\n",
       "  </tbody>\n",
       "</table>\n",
       "<p>3127 rows × 4 columns</p>\n",
       "</div>"
      ],
      "text/plain": [
       "                                                             model  \\\n",
       "account_id                                                           \n",
       "1900000215889                                       [130, 29, 106]   \n",
       "0010o00002AGLLq                                      [46, 120, 84]   \n",
       "0010o00002AGU1E                                      [115, 40, 97]   \n",
       "0010o00002AGUKz                                      [115, 40, 97]   \n",
       "0010o00002AGYLD                                 [40, 52, 115, 115]   \n",
       "...                                                            ...   \n",
       "0019000002ACnHZ                                      [105, 98, 24]   \n",
       "0019000002ACnby                                     [11, 106, 130]   \n",
       "0019000002ACsYC                      [40, 52, 115, 40, 40, 40, 40]   \n",
       "0019000002B5m8N             [40, 40, 96, 83, 53, 90, 53, 98, 2, 2]   \n",
       "0019000002B5p30  [40, 97, 128, 84, 122, 120, 94, 107, 31, 83, 9...   \n",
       "\n",
       "                                                          recency  \\\n",
       "account_id                                                          \n",
       "1900000215889                                        [50, 50, 48]   \n",
       "0010o00002AGLLq                                      [41, 40, 37]   \n",
       "0010o00002AGU1E                                       [40, 40, 4]   \n",
       "0010o00002AGUKz                                      [41, 41, 41]   \n",
       "0010o00002AGYLD                                  [40, 18, 18, 10]   \n",
       "...                                                           ...   \n",
       "0019000002ACnHZ                                      [47, 41, 16]   \n",
       "0019000002ACnby                                      [41, 41, 36]   \n",
       "0019000002ACsYC                          [41, 16, 11, 1, 1, 1, 1]   \n",
       "0019000002B5m8N          [47, 46, 46, 36, 36, 32, 32, 28, 12, 11]   \n",
       "0019000002B5p30  [41, 41, 41, 40, 39, 38, 37, 31, 29, 26, 20, 18]   \n",
       "\n",
       "                                                training_sequence  \\\n",
       "account_id                                                          \n",
       "1900000215889                                           [130, 29]   \n",
       "0010o00002AGLLq                                         [46, 120]   \n",
       "0010o00002AGU1E                                         [115, 40]   \n",
       "0010o00002AGUKz                                         [115, 40]   \n",
       "0010o00002AGYLD                                     [40, 52, 115]   \n",
       "...                                                           ...   \n",
       "0019000002ACnHZ                                         [105, 98]   \n",
       "0019000002ACnby                                         [11, 106]   \n",
       "0019000002ACsYC                         [40, 52, 115, 40, 40, 40]   \n",
       "0019000002B5m8N               [40, 40, 96, 83, 53, 90, 53, 98, 2]   \n",
       "0019000002B5p30  [40, 97, 128, 84, 122, 120, 94, 107, 31, 83, 90]   \n",
       "\n",
       "                                                  target_sequence  \n",
       "account_id                                                         \n",
       "1900000215889                                           [29, 106]  \n",
       "0010o00002AGLLq                                         [120, 84]  \n",
       "0010o00002AGU1E                                          [40, 97]  \n",
       "0010o00002AGUKz                                          [40, 97]  \n",
       "0010o00002AGYLD                                    [52, 115, 115]  \n",
       "...                                                           ...  \n",
       "0019000002ACnHZ                                          [98, 24]  \n",
       "0019000002ACnby                                        [106, 130]  \n",
       "0019000002ACsYC                         [52, 115, 40, 40, 40, 40]  \n",
       "0019000002B5m8N                [40, 96, 83, 53, 90, 53, 98, 2, 2]  \n",
       "0019000002B5p30  [97, 128, 84, 122, 120, 94, 107, 31, 83, 90, 52]  \n",
       "\n",
       "[3127 rows x 4 columns]"
      ]
     },
     "execution_count": 312,
     "metadata": {},
     "output_type": "execute_result"
    }
   ],
   "source": [
    "input_data"
   ]
  },
  {
   "cell_type": "code",
   "execution_count": 313,
   "id": "cb6c5242",
   "metadata": {},
   "outputs": [],
   "source": [
    "maxlen = input_data['model'].apply(lambda x: len(x)).sort_values(ascending=False).iloc[0]"
   ]
  },
  {
   "cell_type": "code",
   "execution_count": 335,
   "id": "197a3a7d",
   "metadata": {
    "scrolled": true
   },
   "outputs": [],
   "source": [
    "input_data['training_sequence'] = pad_sequences(input_data.training_sequence, maxlen=maxlen, padding='pre', value=0).tolist()\n",
    "input_data['recency'] = pad_sequences(input_data.recency, maxlen=maxlen, padding='pre', value=0).tolist()\n",
    "input_data['target_sequence'] = pad_sequences(input_data.target_sequence, maxlen=maxlen, padding='pre', value=0).tolist()"
   ]
  },
  {
   "cell_type": "code",
   "execution_count": 339,
   "id": "e3825750",
   "metadata": {},
   "outputs": [],
   "source": [
    "input_data['training_sequence'] = input_data['training_sequence'].apply(lambda x: np.array(x))\n",
    "input_data['recency'] = input_data['recency'].apply(lambda x: np.array(x))\n",
    "input_data['target_sequence'] = input_data['target_sequence'].apply(lambda x: np.array(x))"
   ]
  },
  {
   "cell_type": "code",
   "execution_count": 343,
   "id": "11583c92",
   "metadata": {},
   "outputs": [
    {
     "name": "stdout",
     "output_type": "stream",
     "text": [
      "[  0   0   0   0   0   0   0   0   0   0   0   0   0 130  29]\n",
      "[ 0  0  0  0  0  0  0  0  0  0  0  0 50 50 48]\n",
      "[  0   0   0   0   0   0   0   0   0   0   0   0   0  29 106]\n"
     ]
    }
   ],
   "source": [
    "print(input_data['training_sequence'].iloc[0])\n",
    "print(input_data['recency'].iloc[0])\n",
    "print(input_data['target_sequence'].iloc[0])"
   ]
  },
  {
   "cell_type": "code",
   "execution_count": 348,
   "id": "6446c9a3",
   "metadata": {},
   "outputs": [],
   "source": [
    "train_feat_dict = {'training_sequence': input_data.training_sequence.values,\n",
    "                     'recency': input_data.recency.values}\n",
    "train_target_tensor = input_data['target_sequence'].values"
   ]
  },
  {
   "cell_type": "code",
   "execution_count": null,
   "id": "fd678b13",
   "metadata": {},
   "outputs": [],
   "source": []
  },
  {
   "cell_type": "code",
   "execution_count": null,
   "id": "07f3c111",
   "metadata": {},
   "outputs": [],
   "source": []
  },
  {
   "cell_type": "code",
   "execution_count": null,
   "id": "eb3f9c87",
   "metadata": {},
   "outputs": [],
   "source": []
  },
  {
   "cell_type": "code",
   "execution_count": null,
   "id": "0e8f6e86",
   "metadata": {},
   "outputs": [],
   "source": []
  },
  {
   "cell_type": "code",
   "execution_count": null,
   "id": "3425609d",
   "metadata": {},
   "outputs": [],
   "source": []
  }
 ],
 "metadata": {
  "kernelspec": {
   "display_name": "Python 3 (ipykernel)",
   "language": "python",
   "name": "python3"
  },
  "language_info": {
   "codemirror_mode": {
    "name": "ipython",
    "version": 3
   },
   "file_extension": ".py",
   "mimetype": "text/x-python",
   "name": "python",
   "nbconvert_exporter": "python",
   "pygments_lexer": "ipython3",
   "version": "3.8.6"
  },
  "toc": {
   "base_numbering": 1,
   "nav_menu": {},
   "number_sections": true,
   "sideBar": true,
   "skip_h1_title": false,
   "title_cell": "Table of Contents",
   "title_sidebar": "Contents",
   "toc_cell": false,
   "toc_position": {},
   "toc_section_display": true,
   "toc_window_display": false
  }
 },
 "nbformat": 4,
 "nbformat_minor": 5
}
