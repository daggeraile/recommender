{
 "cells": [
  {
   "cell_type": "code",
   "execution_count": 2,
   "id": "4690fbfb",
   "metadata": {},
   "outputs": [
    {
     "name": "stderr",
     "output_type": "stream",
     "text": [
      "2022-03-05 20:04:24.082746: W tensorflow/stream_executor/platform/default/dso_loader.cc:64] Could not load dynamic library 'libcudart.so.11.0'; dlerror: libcudart.so.11.0: cannot open shared object file: No such file or directory\n",
      "2022-03-05 20:04:24.082786: I tensorflow/stream_executor/cuda/cudart_stub.cc:29] Ignore above cudart dlerror if you do not have a GPU set up on your machine.\n"
     ]
    }
   ],
   "source": [
    "import pandas as pd\n",
    "import matplotlib.pyplot as plt\n",
    "import numpy as np\n",
    "import tensorflow as tf\n",
    "from tensorflow.keras.preprocessing.sequence import pad_sequences\n",
    "from tensorflow.keras.preprocessing.text import Tokenizer\n",
    "from tensorflow.keras import layers, Sequential\n",
    "from tensorflow.keras.utils import to_categorical"
   ]
  },
  {
   "cell_type": "code",
   "execution_count": 3,
   "id": "3c63ee4d",
   "metadata": {},
   "outputs": [],
   "source": [
    "transactions = pd.read_csv('../raw_data/transactions_train.csv', nrows=50_000)"
   ]
  },
  {
   "cell_type": "code",
   "execution_count": 4,
   "id": "65d4d199",
   "metadata": {},
   "outputs": [
    {
     "data": {
      "text/html": [
       "<div>\n",
       "<style scoped>\n",
       "    .dataframe tbody tr th:only-of-type {\n",
       "        vertical-align: middle;\n",
       "    }\n",
       "\n",
       "    .dataframe tbody tr th {\n",
       "        vertical-align: top;\n",
       "    }\n",
       "\n",
       "    .dataframe thead th {\n",
       "        text-align: right;\n",
       "    }\n",
       "</style>\n",
       "<table border=\"1\" class=\"dataframe\">\n",
       "  <thead>\n",
       "    <tr style=\"text-align: right;\">\n",
       "      <th></th>\n",
       "      <th>t_dat</th>\n",
       "      <th>customer_id</th>\n",
       "      <th>article_id</th>\n",
       "      <th>price</th>\n",
       "      <th>sales_channel_id</th>\n",
       "    </tr>\n",
       "  </thead>\n",
       "  <tbody>\n",
       "    <tr>\n",
       "      <th>0</th>\n",
       "      <td>2018-09-20</td>\n",
       "      <td>000058a12d5b43e67d225668fa1f8d618c13dc232df0ca...</td>\n",
       "      <td>663713001</td>\n",
       "      <td>0.050831</td>\n",
       "      <td>2</td>\n",
       "    </tr>\n",
       "    <tr>\n",
       "      <th>1</th>\n",
       "      <td>2018-09-20</td>\n",
       "      <td>000058a12d5b43e67d225668fa1f8d618c13dc232df0ca...</td>\n",
       "      <td>541518023</td>\n",
       "      <td>0.030492</td>\n",
       "      <td>2</td>\n",
       "    </tr>\n",
       "    <tr>\n",
       "      <th>2</th>\n",
       "      <td>2018-09-20</td>\n",
       "      <td>00007d2de826758b65a93dd24ce629ed66842531df6699...</td>\n",
       "      <td>505221004</td>\n",
       "      <td>0.015237</td>\n",
       "      <td>2</td>\n",
       "    </tr>\n",
       "    <tr>\n",
       "      <th>3</th>\n",
       "      <td>2018-09-20</td>\n",
       "      <td>00007d2de826758b65a93dd24ce629ed66842531df6699...</td>\n",
       "      <td>685687003</td>\n",
       "      <td>0.016932</td>\n",
       "      <td>2</td>\n",
       "    </tr>\n",
       "    <tr>\n",
       "      <th>4</th>\n",
       "      <td>2018-09-20</td>\n",
       "      <td>00007d2de826758b65a93dd24ce629ed66842531df6699...</td>\n",
       "      <td>685687004</td>\n",
       "      <td>0.016932</td>\n",
       "      <td>2</td>\n",
       "    </tr>\n",
       "  </tbody>\n",
       "</table>\n",
       "</div>"
      ],
      "text/plain": [
       "        t_dat                                        customer_id  article_id  \\\n",
       "0  2018-09-20  000058a12d5b43e67d225668fa1f8d618c13dc232df0ca...   663713001   \n",
       "1  2018-09-20  000058a12d5b43e67d225668fa1f8d618c13dc232df0ca...   541518023   \n",
       "2  2018-09-20  00007d2de826758b65a93dd24ce629ed66842531df6699...   505221004   \n",
       "3  2018-09-20  00007d2de826758b65a93dd24ce629ed66842531df6699...   685687003   \n",
       "4  2018-09-20  00007d2de826758b65a93dd24ce629ed66842531df6699...   685687004   \n",
       "\n",
       "      price  sales_channel_id  \n",
       "0  0.050831                 2  \n",
       "1  0.030492                 2  \n",
       "2  0.015237                 2  \n",
       "3  0.016932                 2  \n",
       "4  0.016932                 2  "
      ]
     },
     "execution_count": 4,
     "metadata": {},
     "output_type": "execute_result"
    }
   ],
   "source": [
    "transactions.head()"
   ]
  },
  {
   "cell_type": "code",
   "execution_count": 5,
   "id": "9ccc3061",
   "metadata": {},
   "outputs": [
    {
     "name": "stdout",
     "output_type": "stream",
     "text": [
      "<class 'pandas.core.frame.DataFrame'>\n",
      "RangeIndex: 50000 entries, 0 to 49999\n",
      "Data columns (total 5 columns):\n",
      " #   Column            Non-Null Count  Dtype  \n",
      "---  ------            --------------  -----  \n",
      " 0   t_dat             50000 non-null  object \n",
      " 1   customer_id       50000 non-null  object \n",
      " 2   article_id        50000 non-null  int64  \n",
      " 3   price             50000 non-null  float64\n",
      " 4   sales_channel_id  50000 non-null  int64  \n",
      "dtypes: float64(1), int64(2), object(2)\n",
      "memory usage: 1.9+ MB\n"
     ]
    }
   ],
   "source": [
    "transactions.info()"
   ]
  },
  {
   "cell_type": "code",
   "execution_count": 6,
   "id": "01083f51",
   "metadata": {
    "scrolled": false
   },
   "outputs": [
    {
     "data": {
      "image/png": "[encoded data removed]",
      "text/plain": [
       "<Figure size 1152x432 with 1 Axes>"
      ]
     },
     "metadata": {
      "needs_background": "light"
     },
     "output_type": "display_data"
    }
   ],
   "source": [
    "customer_purchases = pd.DataFrame(transactions['customer_id'].value_counts())\n",
    "customer_purchases.rename(columns={'customer_id':'purchases'}, inplace=True)\n",
    "plt.figure(figsize=(16,6))\n",
    "plt.title('Unique Customers group by Number of Purchases')\n",
    "plt.hist(customer_purchases, bins=1000)\n",
    "plt.show()"
   ]
  },
  {
   "cell_type": "code",
   "execution_count": 7,
   "id": "f7961581",
   "metadata": {},
   "outputs": [],
   "source": [
    "transactions['article_id'] = transactions['article_id'].astype(str)\n",
    "tokenizer = Tokenizer()\n",
    "tokenizer.fit_on_texts(transactions['article_id'])\n",
    "vocab_size = len(tokenizer.word_counts)+1\n",
    "transactions['article_token'] = transactions['article_id'].map(tokenizer.word_index)"
   ]
  },
  {
   "cell_type": "code",
   "execution_count": 8,
   "id": "1194d352",
   "metadata": {},
   "outputs": [],
   "source": [
    "data = transactions.groupby('customer_id')['article_token'].apply(list)\n",
    "data = pd.DataFrame(data).rename(columns={'article_token':'purchase_history'})"
   ]
  },
  {
   "cell_type": "code",
   "execution_count": 9,
   "id": "b06b658a",
   "metadata": {},
   "outputs": [
    {
     "data": {
      "text/plain": [
       "(14392, 52)"
      ]
     },
     "execution_count": 9,
     "metadata": {},
     "output_type": "execute_result"
    }
   ],
   "source": [
    "max_len = max([len(history) for history in data['purchase_history'].values])\n",
    "sequence = pad_sequences(data['purchase_history'].values, maxlen=max_len, padding='pre')\n",
    "sequence.shape"
   ]
  },
  {
   "cell_type": "code",
   "execution_count": 10,
   "id": "10b5e93d",
   "metadata": {},
   "outputs": [],
   "source": [
    "X = sequence[:, :-1]\n",
    "y = sequence[:, -1]"
   ]
  },
  {
   "cell_type": "code",
   "execution_count": 11,
   "id": "13fbaeff",
   "metadata": {},
   "outputs": [],
   "source": [
    "y = to_categorical(y)"
   ]
  },
  {
   "cell_type": "code",
   "execution_count": 12,
   "id": "dddda43d",
   "metadata": {},
   "outputs": [
    {
     "name": "stderr",
     "output_type": "stream",
     "text": [
      "2022-03-05 20:04:29.595541: E tensorflow/stream_executor/cuda/cuda_driver.cc:271] failed call to cuInit: CUDA_ERROR_NO_DEVICE: no CUDA-capable device is detected\n",
      "2022-03-05 20:04:29.595597: I tensorflow/stream_executor/cuda/cuda_diagnostics.cc:156] kernel driver does not appear to be running on this host (LAPTOP-UACK70L0): /proc/driver/nvidia/version does not exist\n",
      "2022-03-05 20:04:29.596522: I tensorflow/core/platform/cpu_feature_guard.cc:151] This TensorFlow binary is optimized with oneAPI Deep Neural Network Library (oneDNN) to use the following CPU instructions in performance-critical operations:  AVX2 FMA\n",
      "To enable them in other operations, rebuild TensorFlow with the appropriate compiler flags.\n"
     ]
    },
    {
     "name": "stdout",
     "output_type": "stream",
     "text": [
      "Model: \"sequential\"\n",
      "_________________________________________________________________\n",
      " Layer (type)                Output Shape              Param #   \n",
      "=================================================================\n",
      " embedding (Embedding)       (None, 51, 5)             58635     \n",
      "                                                                 \n",
      " dense (Dense)               (None, 51, 512)           3072      \n",
      "                                                                 \n",
      " dropout (Dropout)           (None, 51, 512)           0         \n",
      "                                                                 \n",
      " lstm (LSTM)                 (None, 3)                 6192      \n",
      "                                                                 \n",
      " dropout_1 (Dropout)         (None, 3)                 0         \n",
      "                                                                 \n",
      " dense_1 (Dense)             (None, 11722)             46888     \n",
      "                                                                 \n",
      "=================================================================\n",
      "Total params: 114,787\n",
      "Trainable params: 114,787\n",
      "Non-trainable params: 0\n",
      "_________________________________________________________________\n"
     ]
    }
   ],
   "source": [
    "model = Sequential()\n",
    "model.add(layers.Embedding(vocab_size, 5, input_length = max_len-1))\n",
    "model.add(layers.Dense(units=512))\n",
    "model.add(layers.Dropout(0.2))\n",
    "model.add(layers.LSTM(3))\n",
    "model.add(layers.Dropout(0.2))\n",
    "model.add(layers.Dense(y.shape[1], activation='softmax'))\n",
    "model.summary()"
   ]
  },
  {
   "cell_type": "code",
   "execution_count": 13,
   "id": "1a525f15",
   "metadata": {},
   "outputs": [],
   "source": [
    "model.compile(optimizer='adam',\n",
    "             loss='categorical_crossentropy',\n",
    "             metrics=['accuracy'])"
   ]
  },
  {
   "cell_type": "code",
   "execution_count": 14,
   "id": "2407ec97",
   "metadata": {},
   "outputs": [
    {
     "name": "stdout",
     "output_type": "stream",
     "text": [
      "Epoch 1/10\n"
     ]
    },
    {
     "name": "stderr",
     "output_type": "stream",
     "text": [
      "2022-03-05 20:04:29.912492: W tensorflow/core/framework/cpu_allocator_impl.cc:82] Allocation of 539821544 exceeds 10% of free system memory.\n"
     ]
    },
    {
     "name": "stdout",
     "output_type": "stream",
     "text": [
      "360/360 [==============================] - 16s 39ms/step - loss: 9.1961 - accuracy: 0.0051 - val_loss: 9.0430 - val_accuracy: 0.0066\n",
      "Epoch 2/10\n",
      "360/360 [==============================] - 18s 50ms/step - loss: 8.6658 - accuracy: 0.0052 - val_loss: 9.0067 - val_accuracy: 0.0056\n",
      "Epoch 3/10\n",
      "360/360 [==============================] - 16s 46ms/step - loss: 8.4706 - accuracy: 0.0055 - val_loss: 9.0621 - val_accuracy: 0.0056\n",
      "Epoch 4/10\n",
      "360/360 [==============================] - 19s 54ms/step - loss: 8.3730 - accuracy: 0.0058 - val_loss: 9.1083 - val_accuracy: 0.0056\n",
      "Epoch 5/10\n",
      "360/360 [==============================] - 34s 93ms/step - loss: 8.3096 - accuracy: 0.0059 - val_loss: 9.1804 - val_accuracy: 0.0056\n",
      "Epoch 6/10\n",
      "360/360 [==============================] - 39s 109ms/step - loss: 8.2565 - accuracy: 0.0055 - val_loss: 9.2204 - val_accuracy: 0.0056\n",
      "Epoch 7/10\n",
      "360/360 [==============================] - 37s 104ms/step - loss: 8.2138 - accuracy: 0.0057 - val_loss: 9.2718 - val_accuracy: 0.0056\n",
      "Epoch 8/10\n",
      "360/360 [==============================] - 34s 95ms/step - loss: 8.1875 - accuracy: 0.0060 - val_loss: 9.3238 - val_accuracy: 0.0056\n",
      "Epoch 9/10\n",
      "360/360 [==============================] - 38s 106ms/step - loss: 8.1609 - accuracy: 0.0060 - val_loss: 9.3800 - val_accuracy: 0.0056\n",
      "Epoch 10/10\n",
      "360/360 [==============================] - 34s 96ms/step - loss: 8.1373 - accuracy: 0.0059 - val_loss: 9.4367 - val_accuracy: 0.0056\n"
     ]
    }
   ],
   "source": [
    "history = model.fit(X, y, validation_split=0.2, verbose=1, epochs=10)"
   ]
  },
  {
   "cell_type": "code",
   "execution_count": 15,
   "id": "6457fa57",
   "metadata": {},
   "outputs": [
    {
     "data": {
      "image/png": "[encoded data removed]",
      "text/plain": [
       "<Figure size 1152x432 with 2 Axes>"
      ]
     },
     "metadata": {
      "needs_background": "light"
     },
     "output_type": "display_data"
    }
   ],
   "source": [
    "fig, ax = plt.subplots(1,2,figsize=(16,6))\n",
    "ax[0].plot(history.history['loss'], label='train loss')\n",
    "ax[0].plot(history.history['val_loss'], label='val loss')\n",
    "ax[1].plot(history.history['accuracy'], label='train accuracy')\n",
    "ax[1].plot(history.history['val_accuracy'], label='val accuracy')\n",
    "plt.show()"
   ]
  },
  {
   "cell_type": "code",
   "execution_count": null,
   "id": "b0022b32",
   "metadata": {},
   "outputs": [],
   "source": []
  },
  {
   "cell_type": "code",
   "execution_count": null,
   "id": "528373e0",
   "metadata": {},
   "outputs": [],
   "source": []
  },
  {
   "cell_type": "code",
   "execution_count": null,
   "id": "89180a18",
   "metadata": {},
   "outputs": [],
   "source": []
  },
  {
   "cell_type": "code",
   "execution_count": null,
   "id": "08d04ed8",
   "metadata": {},
   "outputs": [],
   "source": []
  },
  {
   "cell_type": "code",
   "execution_count": null,
   "id": "c692755c",
   "metadata": {},
   "outputs": [],
   "source": []
  }
 ],
 "metadata": {
  "kernelspec": {
   "display_name": "Python 3 (ipykernel)",
   "language": "python",
   "name": "python3"
  },
  "language_info": {
   "codemirror_mode": {
    "name": "ipython",
    "version": 3
   },
   "file_extension": ".py",
   "mimetype": "text/x-python",
   "name": "python",
   "nbconvert_exporter": "python",
   "pygments_lexer": "ipython3",
   "version": "3.8.6"
  },
  "toc": {
   "base_numbering": 1,
   "nav_menu": {},
   "number_sections": true,
   "sideBar": true,
   "skip_h1_title": false,
   "title_cell": "Table of Contents",
   "title_sidebar": "Contents",
   "toc_cell": false,
   "toc_position": {},
   "toc_section_display": true,
   "toc_window_display": false
  }
 },
 "nbformat": 4,
 "nbformat_minor": 5
}
